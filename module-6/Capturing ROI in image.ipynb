{
 "cells": [
  {
   "cell_type": "markdown",
   "metadata": {},
   "source": [
    "# Capturing region of interest"
   ]
  },
  {
   "cell_type": "markdown",
   "metadata": {},
   "source": [
    "### Importing libraries"
   ]
  },
  {
   "cell_type": "code",
   "execution_count": 1,
   "metadata": {
    "collapsed": true
   },
   "outputs": [],
   "source": [
    "import cv2"
   ]
  },
  {
   "cell_type": "markdown",
   "metadata": {},
   "source": [
    "### Mouse events\n",
    "1. EVENT_MOUSEMOVE\n",
    "2. EVENT_LBUTTONDOWN\n",
    "3. EVENT_RBUTTONDOWN\n",
    "4. EVENT_MBUTTONDOWN\n",
    "5. EVENT_LBUTTONUP\n",
    "6. EVENT_RBUTTONUP\n",
    "7. EVENT_MBUTTONUP\n",
    "8. EVENT_LBUTTONDBLCLK\n",
    "9. EVENT_RBUTTONDBLCLK\n",
    "10. EVENT_MBUTTONDBLCLK"
   ]
  },
  {
   "cell_type": "code",
   "execution_count": 2,
   "metadata": {
    "collapsed": true
   },
   "outputs": [],
   "source": [
    "position = []\n",
    "crop = False"
   ]
  },
  {
   "cell_type": "markdown",
   "metadata": {},
   "source": [
    "### Defining the function to call when an event occurs\n",
    "\n",
    "This function is called with four arguments being passed by default when a mouse event occurs"
   ]
  },
  {
   "cell_type": "code",
   "execution_count": 3,
   "metadata": {
    "collapsed": true
   },
   "outputs": [],
   "source": [
    "def click_and_crop(event, x, y, flags, param):\n",
    "    \n",
    "    # Grab references to the global variables\n",
    "    global position,crop    \n",
    "    \n",
    "    # If event that occured is left button down or pressed\n",
    "    if event == cv2.EVENT_LBUTTONDOWN: \n",
    "        \n",
    "        # Append the current position of cursor to position-list as a tuple\n",
    "        position.append((x,y)) \n",
    "        \n",
    "        # Setting crop to True to get into cropping mode\n",
    "        crop = True                        \n",
    "    \n",
    "    \n",
    "    # If event that occured is left button up or release\n",
    "    if event == cv2.EVENT_LBUTTONUP:\n",
    "        \n",
    "        # Append the current position of cursor to position-list as a tuple\n",
    "        position.append((x,y)) \n",
    "        \n",
    "         # Copy the image\n",
    "        image = clone.copy()            \n",
    "        \n",
    "        # Draw rectangle using the coordinates in position-list\n",
    "        cv2.rectangle(image, position[0],position[1], (0, 255, 0), 2) \n",
    "        \n",
    "        # Display the image\n",
    "        cv2.imshow(\"Cropping-Window\", image) \n",
    "        \n",
    "        # Setting crop to False to exit cropping mode\n",
    "        crop = False     \n",
    "    \n",
    "    # If event that occured is mouse-move and we are in cropping mode\n",
    "    if event == cv2.EVENT_MOUSEMOVE and crop == True:\n",
    "        \n",
    "        # Every time the mouse moves we reset the image so that we can see what area is being covered.\n",
    "        image = clone.copy()\n",
    "        \n",
    "        # Draw rectangle using the coordinates in position-list\n",
    "        cv2.rectangle(image, position[0],(x,y), (0, 255, 0), 2)\n",
    "        \n",
    "        # Display the image\n",
    "        cv2.imshow(\"Cropping-Window\", image)\n",
    "        "
   ]
  },
  {
   "cell_type": "code",
   "execution_count": 4,
   "metadata": {},
   "outputs": [],
   "source": [
    "# Reading the image\n",
    "image = cv2.imread('omr_test_01.png')\n",
    "\n",
    "# Making a copy\n",
    "clone = image.copy()\n",
    "\n",
    "# Declaring a window with name 'Cropping-Window'\n",
    "cv2.namedWindow('Cropping-Window')\n",
    "\n",
    "# Attaching mousecallback to the window declared above\n",
    "# This will call the function 'click_and_crop' every time a mouse event occurs in that window\n",
    "cv2.setMouseCallback('Cropping-Window',click_and_crop)\n",
    "\n",
    "\n",
    "while True:\n",
    "    # Displaying the image in the window ('Cropping-Window') \n",
    "    cv2.imshow('Cropping-Window',image)\n",
    "    \n",
    "    # Wait for key press\n",
    "    key = cv2.waitKey(0)\n",
    "    \n",
    "    # If key pressed if 'c'\n",
    "    if key == ord('c'):\n",
    "        \n",
    "        # And position contains two coordinates\n",
    "        if len(position) == 2:\n",
    "            \n",
    "            # Slice the region of interest from the image \n",
    "            roi = clone[position[0][1]:position[1][1], position[0][0]:position[1][0]]\n",
    "            \n",
    "            # Display the sliced image in seperate window\n",
    "            # If its height and width is greater than 0\n",
    "            if roi.shape[0] > 0 and roi.shape[1] > 0:\n",
    "                cv2.imshow(\"ROI\", roi)\n",
    "                cv2.waitKey(0)\n",
    "                \n",
    "                # Destroy 'ROI' window\n",
    "                cv2.destroyWindow('ROI')\n",
    "            \n",
    "            \n",
    "            \n",
    "        # Reseting the image to get rid of the rectangle drawn on it\n",
    "        image = clone.copy()\n",
    "        \n",
    "        # Emptying the position list \n",
    "        position = []\n",
    "    \n",
    "    # If key pressed if 'r'. Reset the image and position-list\n",
    "    if key == ord('r'):\n",
    "        image = clone.copy()\n",
    "        position = []\n",
    "    \n",
    "    # If key pressed if 'q'. Exit the loop\n",
    "    if key == ord('q'):\n",
    "        break\n",
    "        \n",
    "# Destroy all the windows\n",
    "cv2.destroyAllWindows()"
   ]
  },
  {
   "cell_type": "code",
   "execution_count": null,
   "metadata": {
    "collapsed": true
   },
   "outputs": [],
   "source": []
  }
 ],
 "metadata": {
  "kernelspec": {
   "display_name": "Python 3",
   "language": "python",
   "name": "python3"
  },
  "language_info": {
   "codemirror_mode": {
    "name": "ipython",
    "version": 3
   },
   "file_extension": ".py",
   "mimetype": "text/x-python",
   "name": "python",
   "nbconvert_exporter": "python",
   "pygments_lexer": "ipython3",
   "version": "3.6.1"
  }
 },
 "nbformat": 4,
 "nbformat_minor": 2
}
