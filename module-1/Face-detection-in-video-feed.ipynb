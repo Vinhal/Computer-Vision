{
 "cells": [
  {
   "cell_type": "markdown",
   "metadata": {},
   "source": [
    "# Face detection in Camera feed or video feed"
   ]
  },
  {
   "cell_type": "markdown",
   "metadata": {},
   "source": [
    "We can reuse the code of module-1 to adjust to our needs"
   ]
  },
  {
   "cell_type": "markdown",
   "metadata": {},
   "source": [
    "### Importing the libraries"
   ]
  },
  {
   "cell_type": "code",
   "execution_count": 14,
   "metadata": {
    "collapsed": true
   },
   "outputs": [],
   "source": [
    "import numpy as np\n",
    "import cv2\n",
    "from imutils.video import WebcamVideoStream\n",
    "import imutils\n",
    "import time"
   ]
  },
  {
   "cell_type": "markdown",
   "metadata": {},
   "source": [
    "If an error 'module not found' occurs just do <br>\n",
    "<b>pip install MODULE-NAME</b> in cmd"
   ]
  },
  {
   "cell_type": "markdown",
   "metadata": {},
   "source": [
    "### Creating the model "
   ]
  },
  {
   "cell_type": "code",
   "execution_count": 15,
   "metadata": {
    "collapsed": true
   },
   "outputs": [],
   "source": [
    "net = cv2.dnn.readNetFromCaffe('deploy.prototxt.txt', 'res10_300x300_ssd_iter_140000.caffemodel')"
   ]
  },
  {
   "cell_type": "markdown",
   "metadata": {},
   "source": [
    "### Creating a Video stream object"
   ]
  },
  {
   "cell_type": "markdown",
   "metadata": {},
   "source": [
    "Instead of reading an image we will use the webcam to capture images and loop throught them."
   ]
  },
  {
   "cell_type": "code",
   "execution_count": 16,
   "metadata": {
    "collapsed": true
   },
   "outputs": [],
   "source": [
    "vs = WebcamVideoStream(src=0).start()\n",
    "time.sleep(2.0)"
   ]
  },
  {
   "cell_type": "markdown",
   "metadata": {
    "collapsed": true
   },
   "source": [
    "### Looping throught the images from webcam and detecting faces"
   ]
  },
  {
   "cell_type": "code",
   "execution_count": 17,
   "metadata": {
    "collapsed": true
   },
   "outputs": [],
   "source": [
    "while True:\n",
    "    # Reading a frame from the webcam\n",
    "    frame = vs.read()\n",
    "    \n",
    "    # Resizing the image\n",
    "    frame = imutils.resize(frame, width=400)\n",
    "    \n",
    "    # Getting Height and width of the image\n",
    "    (h, w) = frame.shape[:2]\n",
    "    \n",
    "    # Pre-processing the image\n",
    "    blob = cv2.dnn.blobFromImage(cv2.resize(frame, (300, 300)), 1.0, (300, 300), (104.0, 177.0, 123.0))\n",
    "    \n",
    "    # Setting it as input\n",
    "    net.setInput(blob)\n",
    "    \n",
    "    # Passing the image through the network\n",
    "    detections = net.forward()\n",
    "    \n",
    "    # Looping throught the predictions\n",
    "    for i in range(detections.shape[2]):\n",
    "\n",
    "        # Extract confidence from detection for the prediction\n",
    "        confidence = detections[0, 0, i, 2]  \n",
    "\n",
    "        # If prediction is greter than 0.5 (threshold)\n",
    "        if confidence > 0.5: \n",
    "\n",
    "            # Get the bounding box coordinates\n",
    "            box = detections[0, 0, i, 3:7] * np.array([w, h, w, h])\n",
    "\n",
    "            # Converting the coordinates to intergers\n",
    "            (startX, startY, endX, endY) = box.astype(\"int\") \n",
    "\n",
    "            # Drawing the bounding box around the detected object\n",
    "            cv2.rectangle(frame, (startX, startY), (endX, endY),(0, 0, 255), 2)\n",
    "\n",
    "            # Formatting the confidence to 2 decimal point\n",
    "            text = \"{:.2f}%\".format(confidence * 100)\n",
    "\n",
    "            # Setting the coordinate for the confidence text\n",
    "            y = startY - 10 if startY - 10 > 10 else startY + 10\n",
    "\n",
    "            # Putting the text \n",
    "            cv2.putText(frame, text, (startX, y), cv2.FONT_HERSHEY_SIMPLEX, 0.45, (0, 0, 255), 2)\n",
    "            \n",
    "    # Displaying the image\n",
    "    cv2.imshow(\"Output\", frame)\n",
    "    \n",
    "    # Wait for a key press\n",
    "    key = cv2.waitKey(1)\n",
    "    \n",
    "    # If the key pressed was q we will break from the loop\n",
    "    if key == ord(\"q\"):\n",
    "        break\n",
    "\n",
    "\n",
    "# Destorying all the windows\n",
    "cv2.destroyAllWindows()\n",
    "\n",
    "# Releasing the camera\n",
    "vs.stop()"
   ]
  },
  {
   "cell_type": "markdown",
   "metadata": {},
   "source": [
    " There's a bug in the imutil library because of which you will not be able to release the webcam. To fix this edit the <b>\"webcamvideostream.py\"</b> file in <b>\"Anaconda3/Lib/site-packages/imutils/video/webcamvideostream.py\"</b> and in the stop method add the following line of code at the end and save it.\n",
    "#  \n",
    "self.stream.release()"
   ]
  },
  {
   "cell_type": "code",
   "execution_count": null,
   "metadata": {
    "collapsed": true
   },
   "outputs": [],
   "source": []
  }
 ],
 "metadata": {
  "kernelspec": {
   "display_name": "Python 3",
   "language": "python",
   "name": "python3"
  },
  "language_info": {
   "codemirror_mode": {
    "name": "ipython",
    "version": 3
   },
   "file_extension": ".py",
   "mimetype": "text/x-python",
   "name": "python",
   "nbconvert_exporter": "python",
   "pygments_lexer": "ipython3",
   "version": "3.6.1"
  }
 },
 "nbformat": 4,
 "nbformat_minor": 2
}
