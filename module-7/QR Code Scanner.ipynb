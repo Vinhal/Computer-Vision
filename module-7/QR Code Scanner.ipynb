{
 "cells": [
  {
   "cell_type": "markdown",
   "metadata": {},
   "source": [
    "# Generating and reading QR codes"
   ]
  },
  {
   "cell_type": "markdown",
   "metadata": {},
   "source": [
    "pip install pyzbar <br>\n",
    "pip install qrcode"
   ]
  },
  {
   "cell_type": "code",
   "execution_count": 221,
   "metadata": {
    "collapsed": true
   },
   "outputs": [],
   "source": [
    "from pyzbar import pyzbar\n",
    "import cv2\n",
    "import imutils\n",
    "import qrcode"
   ]
  },
  {
   "cell_type": "markdown",
   "metadata": {},
   "source": [
    "### Generating QR code"
   ]
  },
  {
   "cell_type": "code",
   "execution_count": 222,
   "metadata": {
    "collapsed": true
   },
   "outputs": [],
   "source": [
    "img = qrcode.make('Lokesh Dangi')\n",
    "img.save(\"img1.png\",\"PNG\")"
   ]
  },
  {
   "cell_type": "code",
   "execution_count": 223,
   "metadata": {},
   "outputs": [
    {
     "data": {
      "image/png": "[encoded data removed]",
      "text/plain": [
       "<qrcode.image.pil.PilImage at 0x18ebdcb7128>"
      ]
     },
     "execution_count": 223,
     "metadata": {},
     "output_type": "execute_result"
    }
   ],
   "source": [
    "img"
   ]
  },
  {
   "cell_type": "markdown",
   "metadata": {},
   "source": [
    "### Modification "
   ]
  },
  {
   "cell_type": "code",
   "execution_count": 224,
   "metadata": {},
   "outputs": [],
   "source": [
    "qr = qrcode.QRCode(\n",
    "    version=1,\n",
    "    error_correction=qrcode.constants.ERROR_CORRECT_L,\n",
    "    box_size=5,\n",
    "    border=4,\n",
    ")\n",
    "qr.add_data('Lokesh Dangi')\n",
    "qr.make(fit=True)\n",
    "\n",
    "img = qr.make_image(fill_color=\"black\", back_color=\"white\")\n",
    "img.save(\"img1.png\",\"PNG\")"
   ]
  },
  {
   "cell_type": "code",
   "execution_count": 225,
   "metadata": {},
   "outputs": [
    {
     "data": {
      "image/png": "[encoded data removed]",
      "text/plain": [
       "<qrcode.image.pil.PilImage at 0x18ebdcb8198>"
      ]
     },
     "execution_count": 225,
     "metadata": {},
     "output_type": "execute_result"
    }
   ],
   "source": [
    "img"
   ]
  },
  {
   "cell_type": "markdown",
   "metadata": {},
   "source": [
    "## Scanning QR codes"
   ]
  },
  {
   "cell_type": "code",
   "execution_count": 226,
   "metadata": {
    "collapsed": true
   },
   "outputs": [],
   "source": [
    "image = cv2.imread('img1.png')     # Reading the image"
   ]
  },
  {
   "cell_type": "code",
   "execution_count": 227,
   "metadata": {
    "collapsed": true
   },
   "outputs": [],
   "source": [
    "barcodes = pyzbar.decode(image)     # Detecting and decoding the barcodes"
   ]
  },
  {
   "cell_type": "code",
   "execution_count": 228,
   "metadata": {},
   "outputs": [
    {
     "data": {
      "text/plain": [
       "Rect(left=20, top=20, width=105, height=105)"
      ]
     },
     "execution_count": 228,
     "metadata": {},
     "output_type": "execute_result"
    }
   ],
   "source": [
    "barcodes[0].rect"
   ]
  },
  {
   "cell_type": "code",
   "execution_count": 229,
   "metadata": {},
   "outputs": [
    {
     "data": {
      "text/plain": [
       "'Lokesh Dangi'"
      ]
     },
     "execution_count": 229,
     "metadata": {},
     "output_type": "execute_result"
    }
   ],
   "source": [
    "barcodes[0].data.decode('utf-8')"
   ]
  },
  {
   "cell_type": "code",
   "execution_count": 230,
   "metadata": {},
   "outputs": [
    {
     "name": "stdout",
     "output_type": "stream",
     "text": [
      "Barcode-data: Lokesh Dangi\n"
     ]
    },
    {
     "data": {
      "text/plain": [
       "-1"
      ]
     },
     "execution_count": 230,
     "metadata": {},
     "output_type": "execute_result"
    }
   ],
   "source": [
    "# Loop throught the detected barcodes\n",
    "for barcode in barcodes:\n",
    "    \n",
    "    # Extract the bounding box location of the barcode and drawing the bounding box\n",
    "    (x, y, w, h) = barcode.rect\n",
    "    cv2.rectangle(image, (x, y), (x + w, y + h), (0, 0, 255), 2)\n",
    " \n",
    "    # The barcode data is a bytes object so we have to decode it first\n",
    "    barcodeData = barcode.data.decode(\"utf-8\")\n",
    " \n",
    "    # Draw the barcode data on the image\n",
    "    text = \" {} \".format(barcodeData)\n",
    "    cv2.putText(image, text, (x, y - 10), cv2.FONT_HERSHEY_SIMPLEX, 0.5, (0, 0, 255), 2)\n",
    " \n",
    "    # Print the barcode data to the terminal\n",
    "    print(\"Barcode-data: {}\".format(barcodeData))\n",
    "\n",
    "# Show the output image\n",
    "cv2.imshow(\"Image\", image)\n",
    "cv2.waitKey(0)"
   ]
  },
  {
   "cell_type": "markdown",
   "metadata": {},
   "source": [
    "## Reading QR code in a Video Stream"
   ]
  },
  {
   "cell_type": "code",
   "execution_count": 232,
   "metadata": {},
   "outputs": [
    {
     "name": "stdout",
     "output_type": "stream",
     "text": [
      "http://en.m.wikipedia.org\n",
      "http://en.m.wikipedia.org\n",
      "http://en.m.wikipedia.org\n",
      "http://en.m.wikipedia.org\n",
      "http://en.m.wikipedia.org\n",
      "http://en.m.wikipedia.org\n",
      "http://en.m.wikipedia.org\n",
      "http://en.m.wikipedia.org\n",
      "http://en.m.wikipedia.org\n",
      "http://en.m.wikipedia.org\n",
      "http://en.m.wikipedia.org\n",
      "http://en.m.wikipedia.org\n",
      "http://en.m.wikipedia.org\n",
      "http://en.m.wikipedia.org\n",
      "http://en.m.wikipedia.org\n",
      "http://en.m.wikipedia.org\n",
      "http://en.m.wikipedia.org\n",
      "http://en.m.wikipedia.org\n",
      "http://en.m.wikipedia.org\n",
      "http://en.m.wikipedia.org\n",
      "http://en.m.wikipedia.org\n",
      "http://en.m.wikipedia.org\n",
      "http://en.m.wikipedia.org\n",
      "http://en.m.wikipedia.org\n",
      "http://en.m.wikipedia.org\n",
      "http://en.m.wikipedia.org\n",
      "http://en.m.wikipedia.org\n",
      "http://en.m.wikipedia.org\n",
      "http://en.m.wikipedia.org\n",
      "http://en.m.wikipedia.org\n"
     ]
    }
   ],
   "source": [
    "# Create a videocapture object\n",
    "vs = cv2.VideoCapture(0)\n",
    "\n",
    "# Loop throught the frames\n",
    "while True:\n",
    "    \n",
    "    # Read a frame\n",
    "    frame = vs.read()[1]\n",
    "    \n",
    "    # Resizing it for faster processing\n",
    "    frame = imutils.resize(frame, width=400)\n",
    "    \n",
    "    # Detecting and decoding the barcodes\n",
    "    barcodes = pyzbar.decode(frame)\n",
    "    \n",
    "    # Looping throught the detected barcodes\n",
    "    for barcode in barcodes:\n",
    "        \n",
    "        # Extract the bounding box location of the barcode and drawing the bounding box\n",
    "        (x, y, w, h) = barcode.rect\n",
    "        cv2.rectangle(frame, (x, y), (x + w, y + h), (0, 0, 255), 2)\n",
    "        \n",
    "        # Printing the data\n",
    "        print(barcode.data.decode('utf-8'))\n",
    "        \n",
    "    # Displaying the frame\n",
    "    cv2.imshow(\"Barcode Scanner\", frame)\n",
    "    key = cv2.waitKey(1)\n",
    "     \n",
    "    # Exit when 'q' is pressed\n",
    "    if key == ord(\"q\"):\n",
    "        break\n",
    "        \n",
    "# Release the camera\n",
    "vs.release()\n",
    "\n",
    "# Destory all the windows\n",
    "cv2.destroyAllWindows()"
   ]
  },
  {
   "cell_type": "code",
   "execution_count": null,
   "metadata": {
    "collapsed": true
   },
   "outputs": [],
   "source": []
  }
 ],
 "metadata": {
  "kernelspec": {
   "display_name": "Python 3",
   "language": "python",
   "name": "python3"
  },
  "language_info": {
   "codemirror_mode": {
    "name": "ipython",
    "version": 3
   },
   "file_extension": ".py",
   "mimetype": "text/x-python",
   "name": "python",
   "nbconvert_exporter": "python",
   "pygments_lexer": "ipython3",
   "version": "3.6.1"
  }
 },
 "nbformat": 4,
 "nbformat_minor": 2
}
