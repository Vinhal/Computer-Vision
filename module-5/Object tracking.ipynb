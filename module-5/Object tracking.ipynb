{
 "cells": [
  {
   "cell_type": "markdown",
   "metadata": {},
   "source": [
    "# Object tracking"
   ]
  },
  {
   "cell_type": "markdown",
   "metadata": {},
   "source": [
    "### Importing the libraries"
   ]
  },
  {
   "cell_type": "code",
   "execution_count": 16,
   "metadata": {
    "collapsed": true
   },
   "outputs": [],
   "source": [
    "from collections import deque\n",
    "import numpy as np\n",
    "import cv2\n",
    "import imutils\n",
    "import time"
   ]
  },
  {
   "cell_type": "markdown",
   "metadata": {},
   "source": [
    "### Setting the lower and upper bound of color for the object\n",
    "You can use the code at the end to find your hsv combination for other color"
   ]
  },
  {
   "cell_type": "code",
   "execution_count": 17,
   "metadata": {
    "collapsed": true
   },
   "outputs": [],
   "source": [
    "greenLower = (29, 86, 6)\n",
    "greenUpper = (64, 255, 255)"
   ]
  },
  {
   "cell_type": "markdown",
   "metadata": {},
   "source": [
    "### Declaring a deque"
   ]
  },
  {
   "cell_type": "code",
   "execution_count": 18,
   "metadata": {
    "collapsed": true
   },
   "outputs": [],
   "source": [
    "pts = deque(maxlen=20)"
   ]
  },
  {
   "cell_type": "markdown",
   "metadata": {},
   "source": [
    "### Creating a video stream object"
   ]
  },
  {
   "cell_type": "code",
   "execution_count": 19,
   "metadata": {
    "collapsed": true
   },
   "outputs": [],
   "source": [
    "vs = cv2.VideoCapture(0)\n",
    "time.sleep(2.0)"
   ]
  },
  {
   "cell_type": "markdown",
   "metadata": {},
   "source": [
    "### Looping throught each frame"
   ]
  },
  {
   "cell_type": "code",
   "execution_count": 20,
   "metadata": {},
   "outputs": [],
   "source": [
    "while True:\n",
    "    \n",
    "    # Reading a frame from camera\n",
    "    frame = vs.read()[1]\n",
    "    \n",
    "    # Resizing the frame to make processing faster\n",
    "    frame = imutils.resize(frame, width=600)     \n",
    "    \n",
    "    # Removing details from the image\n",
    "    blurred = cv2.GaussianBlur(frame, (11, 11), 0) \n",
    "    \n",
    "    # Converting frame from BGR to HSV\n",
    "    hsv = cv2.cvtColor(blurred, cv2.COLOR_BGR2HSV) \n",
    "\n",
    "    # Creating a mask that only sees color between lower and upper bound\n",
    "    mask = cv2.inRange(hsv, greenLower, greenUpper)\n",
    "\n",
    "    # Reducing the size of the color mask to remove noise\n",
    "    mask = cv2.erode(mask, None, iterations=2)\n",
    "    \n",
    "    # Increasing it again to get the same size \n",
    "    mask = cv2.dilate(mask, None, iterations=2)\n",
    "    \n",
    "    # Finding contours\n",
    "    cnts = cv2.findContours(mask.copy(), cv2.RETR_EXTERNAL, cv2.CHAIN_APPROX_SIMPLE)     \n",
    "    cnts = cnts[1]\n",
    "    \n",
    "    center = None\n",
    "    \n",
    "     # If at least one contour is found \n",
    "    if len(cnts) > 0:    \n",
    "        \n",
    "        # Get the contour with maximum area\n",
    "        c = max(cnts, key=cv2.contourArea)\n",
    "        \n",
    "        # Find the minimum enclosing circle of it\n",
    "        ((x, y), radius) = cv2.minEnclosingCircle(c)\n",
    "        \n",
    "        # Putting the position of the object in top-left corner\n",
    "        txt = str(x) + ',' + str(y)\n",
    "        cv2.putText(frame,txt,(0, 20), cv2.FONT_HERSHEY_SIMPLEX, 0.5, (0, 255, 0), 2) \n",
    "        \n",
    "        # Calculate moments\n",
    "        M = cv2.moments(c)\n",
    "        \n",
    "        # Finding center using moments\n",
    "        center = (int(M[\"m10\"] / M[\"m00\"]), int(M[\"m01\"] / M[\"m00\"]))\n",
    "        \n",
    "        # If radius of object is greater than 10, then draw a circle around it\n",
    "        if radius > 10:\n",
    "            cv2.circle(frame, (int(x), int(y)), int(radius),(0, 255, 255), 2)\n",
    "            cv2.circle(frame, center, 5, (0, 0, 255), -1)\n",
    "            \n",
    "    \n",
    "    # Appending the center to deque\n",
    "    pts.appendleft(center)\n",
    "    \n",
    "    # Looping through pts\n",
    "    for i in range(1, len(pts)):\n",
    "        \n",
    "        # If the left two elements of the deque are None skip the current iteration\n",
    "        if pts[i - 1] is None or pts[i] is None:      \n",
    "            continue\n",
    "        \n",
    "        # Calculating the thickness of the line based on its position in the deque  \n",
    "        thickness = int(np.sqrt(64/ float(i + 1)) * 2.5)\n",
    "        \n",
    "        # Drawing a line between the points pts[i] and pts[i-1]\n",
    "        cv2.line(frame, pts[i - 1], pts[i], (0, 0, 255), thickness)\n",
    "            \n",
    "    # Displaying the frame\n",
    "    cv2.imshow('temp',frame)\n",
    "    \n",
    "    # Displaying the mask\n",
    "    cv2.imshow('temp1',mask)\n",
    "    \n",
    "    key = cv2.waitKey(1)\n",
    "    \n",
    "    # Break when 'q' is pressed\n",
    "    if key == ord('q'):\n",
    "        break\n",
    "        \n",
    "# Destroy all the windows\n",
    "cv2.destroyAllWindows()\n",
    "\n",
    "# Release the camera\n",
    "vs.release()"
   ]
  },
  {
   "cell_type": "markdown",
   "metadata": {},
   "source": [
    "#   "
   ]
  },
  {
   "cell_type": "markdown",
   "metadata": {},
   "source": [
    "## Finding HSV Combination"
   ]
  },
  {
   "cell_type": "code",
   "execution_count": 7,
   "metadata": {},
   "outputs": [],
   "source": [
    "def nothing(x):\n",
    "    pass\n",
    "\n",
    "vs = cv2.VideoCapture(0)\n",
    "\n",
    "cv2.namedWindow('Colorbars')\n",
    "\n",
    "cv2.createTrackbar(\"MinHue1\", \"Colorbars\",0,179,nothing)\n",
    "cv2.createTrackbar(\"MinSat2\", \"Colorbars\",0,255,nothing)\n",
    "cv2.createTrackbar(\"MinVal3\", \"Colorbars\",0,255,nothing)\n",
    "\n",
    "cv2.createTrackbar(\"MaxHue1\", \"Colorbars\",179,179,nothing)\n",
    "cv2.createTrackbar(\"MaxSat2\", \"Colorbars\",255,255,nothing)\n",
    "cv2.createTrackbar(\"MaxVal3\", \"Colorbars\",255,255,nothing)\n",
    "\n",
    "\n",
    "\n",
    "\n",
    "while True:\n",
    "    img = vs.read()[1]\n",
    "    \n",
    "    hsv = cv2.cvtColor(img,cv2.COLOR_BGR2HSV)\n",
    "        \n",
    "    Max1 = cv2.getTrackbarPos(\"MaxHue1\", \"Colorbars\")\n",
    "    Max2 = cv2.getTrackbarPos(\"MaxSat2\", \"Colorbars\")\n",
    "    Max3 = cv2.getTrackbarPos(\"MaxVal3\", \"Colorbars\")\n",
    "\n",
    "    Min1 = cv2.getTrackbarPos(\"MinHue1\", \"Colorbars\")\n",
    "    Min2 = cv2.getTrackbarPos(\"MinSat2\", \"Colorbars\")\n",
    "    Min3 = cv2.getTrackbarPos(\"MinVal3\", \"Colorbars\")\n",
    "    \n",
    "    mask = cv2.inRange(hsv, (Min1,Min2,Min3), (Max1,Max2,Max3))\n",
    "        \n",
    "    cv2.imshow(\"Thresh\", mask)      \n",
    "    \n",
    "    key = cv2.waitKey(1)\n",
    "    if key == ord('q'):\n",
    "        break\n",
    "        \n",
    "cv2.destroyAllWindows()\n",
    "vs.release()"
   ]
  }
 ],
 "metadata": {
  "kernelspec": {
   "display_name": "Python 3",
   "language": "python",
   "name": "python3"
  },
  "language_info": {
   "codemirror_mode": {
    "name": "ipython",
    "version": 3
   },
   "file_extension": ".py",
   "mimetype": "text/x-python",
   "name": "python",
   "nbconvert_exporter": "python",
   "pygments_lexer": "ipython3",
   "version": "3.6.1"
  }
 },
 "nbformat": 4,
 "nbformat_minor": 2
}
