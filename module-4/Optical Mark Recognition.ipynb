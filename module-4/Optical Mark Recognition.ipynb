{
 "cells": [
  {
   "cell_type": "markdown",
   "metadata": {},
   "source": [
    "# Optical mark recognition"
   ]
  },
  {
   "cell_type": "markdown",
   "metadata": {},
   "source": [
    "### Importing the libraries"
   ]
  },
  {
   "cell_type": "code",
   "execution_count": 70,
   "metadata": {
    "collapsed": true
   },
   "outputs": [],
   "source": [
    "from imutils.perspective import four_point_transform\n",
    "from imutils import contours\n",
    "import numpy as np\n",
    "import imutils\n",
    "import cv2"
   ]
  },
  {
   "cell_type": "markdown",
   "metadata": {},
   "source": [
    "### Initializing the answer key"
   ]
  },
  {
   "cell_type": "code",
   "execution_count": 71,
   "metadata": {
    "collapsed": true
   },
   "outputs": [],
   "source": [
    "ANSWER_KEY = {0: 1, 1: 4, 2: 0, 3: 3, 4: 1}"
   ]
  },
  {
   "cell_type": "markdown",
   "metadata": {},
   "source": [
    "### Reading the image"
   ]
  },
  {
   "cell_type": "code",
   "execution_count": 97,
   "metadata": {
    "collapsed": true
   },
   "outputs": [],
   "source": [
    "image = cv2.imread('omr_test_03.png')"
   ]
  },
  {
   "cell_type": "markdown",
   "metadata": {},
   "source": [
    "### Converting it to grayscale"
   ]
  },
  {
   "cell_type": "code",
   "execution_count": 98,
   "metadata": {
    "collapsed": true
   },
   "outputs": [],
   "source": [
    "gray = cv2.cvtColor(image, cv2.COLOR_BGR2GRAY)"
   ]
  },
  {
   "cell_type": "markdown",
   "metadata": {},
   "source": [
    "### Bluring it to hide the details"
   ]
  },
  {
   "cell_type": "code",
   "execution_count": 99,
   "metadata": {
    "collapsed": true
   },
   "outputs": [],
   "source": [
    "blurred = cv2.GaussianBlur(gray, (5, 5), 0)"
   ]
  },
  {
   "cell_type": "markdown",
   "metadata": {},
   "source": [
    "### Performing edge detection"
   ]
  },
  {
   "cell_type": "code",
   "execution_count": 100,
   "metadata": {
    "collapsed": true
   },
   "outputs": [],
   "source": [
    "edged = cv2.Canny(blurred, 75, 200)"
   ]
  },
  {
   "cell_type": "markdown",
   "metadata": {},
   "source": [
    "### Displaying the image"
   ]
  },
  {
   "cell_type": "code",
   "execution_count": 37,
   "metadata": {},
   "outputs": [
    {
     "data": {
      "text/plain": [
       "-1"
      ]
     },
     "execution_count": 37,
     "metadata": {},
     "output_type": "execute_result"
    }
   ],
   "source": [
    "cv2.imshow('img',edged)\n",
    "cv2.waitKey(0)"
   ]
  },
  {
   "cell_type": "markdown",
   "metadata": {},
   "source": [
    "### Finding the contours"
   ]
  },
  {
   "cell_type": "code",
   "execution_count": 101,
   "metadata": {
    "collapsed": true
   },
   "outputs": [],
   "source": [
    "cnts = cv2.findContours(edged.copy(), cv2.RETR_EXTERNAL, cv2.CHAIN_APPROX_SIMPLE)"
   ]
  },
  {
   "cell_type": "code",
   "execution_count": 102,
   "metadata": {},
   "outputs": [],
   "source": [
    "cnts = cnts[1]"
   ]
  },
  {
   "cell_type": "markdown",
   "metadata": {},
   "source": [
    "### Determining contour of the paper"
   ]
  },
  {
   "cell_type": "code",
   "execution_count": 103,
   "metadata": {
    "collapsed": true
   },
   "outputs": [],
   "source": [
    "docCnt = None\n",
    "if len(cnts) > 0:\n",
    "     # Sorting contours based on their area. Paper will have mamimum area as it is the main object\n",
    "    cnts = sorted(cnts, key=cv2.contourArea, reverse=True)  \n",
    "    \n",
    "    for c in cnts:\n",
    "        \n",
    "        peri = cv2.arcLength(c, True)   # Calculating the perimeter\n",
    "        approx = cv2.approxPolyDP(c, 0.02 * peri, True)    # approximating the shape\n",
    "        \n",
    "        if len(approx) == 4:    # If shape has four edges\n",
    "            docCnt = approx\n",
    "            break"
   ]
  },
  {
   "cell_type": "markdown",
   "metadata": {},
   "source": [
    "### Visualizing the contours"
   ]
  },
  {
   "cell_type": "code",
   "execution_count": 41,
   "metadata": {},
   "outputs": [
    {
     "data": {
      "text/plain": [
       "-1"
      ]
     },
     "execution_count": 41,
     "metadata": {},
     "output_type": "execute_result"
    }
   ],
   "source": [
    "cv2.imshow('temp',cv2.drawContours(image.copy(),[docCnt],-1,(0,0,255),2))\n",
    "cv2.waitKey(0)"
   ]
  },
  {
   "cell_type": "markdown",
   "metadata": {},
   "source": [
    "### Applying four point transformation"
   ]
  },
  {
   "cell_type": "code",
   "execution_count": 104,
   "metadata": {
    "collapsed": true
   },
   "outputs": [],
   "source": [
    "paper = four_point_transform(image,docCnt.reshape(4,2))"
   ]
  },
  {
   "cell_type": "code",
   "execution_count": 105,
   "metadata": {
    "collapsed": true
   },
   "outputs": [],
   "source": [
    "warped = four_point_transform(gray,docCnt.reshape(4,2))"
   ]
  },
  {
   "cell_type": "markdown",
   "metadata": {},
   "source": [
    "### Visualizing the transformed image"
   ]
  },
  {
   "cell_type": "code",
   "execution_count": 44,
   "metadata": {},
   "outputs": [
    {
     "data": {
      "text/plain": [
       "-1"
      ]
     },
     "execution_count": 44,
     "metadata": {},
     "output_type": "execute_result"
    }
   ],
   "source": [
    "cv2.imshow('img',paper)\n",
    "cv2.waitKey(0)"
   ]
  },
  {
   "cell_type": "markdown",
   "metadata": {},
   "source": [
    "### Thresholding"
   ]
  },
  {
   "cell_type": "code",
   "execution_count": 106,
   "metadata": {},
   "outputs": [
    {
     "data": {
      "text/plain": [
       "-1"
      ]
     },
     "execution_count": 106,
     "metadata": {},
     "output_type": "execute_result"
    }
   ],
   "source": [
    "# OTSU will automatically determine the best value for the parameter thresh. The value of thresh is not considered \n",
    "# when otsu flag is passed\n",
    "thresh = cv2.threshold(warped, 0, 255, cv2.THRESH_BINARY_INV | cv2.THRESH_OTSU)[1]   \n",
    "cv2.imshow(\"Thresh\", thresh)                                    \n",
    "cv2.waitKey(0)"
   ]
  },
  {
   "cell_type": "markdown",
   "metadata": {},
   "source": [
    "### Finding the contours of the thresholded image"
   ]
  },
  {
   "cell_type": "code",
   "execution_count": 107,
   "metadata": {
    "collapsed": true
   },
   "outputs": [],
   "source": [
    "cnts = cv2.findContours(thresh.copy(), cv2.RETR_EXTERNAL, cv2.CHAIN_APPROX_SIMPLE)\n",
    "cnts = cnts[1]"
   ]
  },
  {
   "cell_type": "markdown",
   "metadata": {},
   "source": [
    "### Determining the contours of the bubble"
   ]
  },
  {
   "cell_type": "code",
   "execution_count": 108,
   "metadata": {},
   "outputs": [],
   "source": [
    "questionCnts = []\n",
    "for c in cnts:\n",
    "    (x, y, w, h) = cv2.boundingRect(c)     # Computing the bounding box for the bubble \n",
    "    ar = w / float(h)     # Computing the aspect ratio of the bounding box\n",
    "    \n",
    "    if w >= 20 and h >= 20 and ar >= 0.9 and ar <= 1.1:\n",
    "        questionCnts.append(c)"
   ]
  },
  {
   "cell_type": "code",
   "execution_count": 109,
   "metadata": {},
   "outputs": [
    {
     "data": {
      "text/plain": [
       "25"
      ]
     },
     "execution_count": 109,
     "metadata": {},
     "output_type": "execute_result"
    }
   ],
   "source": [
    "len(questionCnts)"
   ]
  },
  {
   "cell_type": "markdown",
   "metadata": {},
   "source": [
    "### Visualizing the contour of bubbles"
   ]
  },
  {
   "cell_type": "code",
   "execution_count": 49,
   "metadata": {
    "collapsed": true
   },
   "outputs": [],
   "source": [
    "pap = paper.copy()\n",
    "for c in questionCnts:\n",
    "    cv2.imshow('temp',cv2.drawContours(pap,[c],-1,(0,0,255),2))\n",
    "    cv2.waitKey(0)"
   ]
  },
  {
   "cell_type": "markdown",
   "metadata": {},
   "source": [
    "### Sorting the contours from top to bottom"
   ]
  },
  {
   "cell_type": "code",
   "execution_count": 110,
   "metadata": {
    "collapsed": true
   },
   "outputs": [],
   "source": [
    "questionCnts = contours.sort_contours(questionCnts, method=\"top-to-bottom\")[0]"
   ]
  },
  {
   "cell_type": "markdown",
   "metadata": {},
   "source": [
    "### Visualizing the sorted contour of bubbles"
   ]
  },
  {
   "cell_type": "code",
   "execution_count": 86,
   "metadata": {
    "collapsed": true
   },
   "outputs": [],
   "source": [
    "pap = paper.copy()\n",
    "for c in questionCnts:\n",
    "    cv2.imshow('temp',cv2.drawContours(pap,[c],-1,(0,255,0),2))\n",
    "    cv2.waitKey(0)"
   ]
  },
  {
   "cell_type": "markdown",
   "metadata": {},
   "source": [
    "### Isolating the bubbles"
   ]
  },
  {
   "cell_type": "code",
   "execution_count": 89,
   "metadata": {},
   "outputs": [],
   "source": [
    "pap = paper.copy()\n",
    "q = -1\n",
    "correct = 0\n",
    "minm = []\n",
    "maxm = []\n",
    "for i in range(0,len(questionCnts),5):\n",
    "    q+=1\n",
    "    \n",
    "    # Sorting contours from left to right\n",
    "    temp = contours.sort_contours(questionCnts[i:i+5], method=\"left-to-right\")[0]\n",
    "    \n",
    "    bubbled = None\n",
    "    for (j,c) in enumerate(temp):\n",
    "        \n",
    "        # Refer to last section ('Isolation step by step') for viewing what each step does \n",
    "        \n",
    "        mask = np.zeros(thresh.shape, dtype=\"uint8\")     # Create a dummy mask\n",
    "        cv2.drawContours(mask, [c], -1, 255, -1)         # Drawing the contours on the dummy mask\n",
    "                                                                       \n",
    "        \n",
    "        mask = cv2.bitwise_and(thresh, thresh, mask=mask)     # Doing Bitwise-and to reveal the bubble\n",
    "        \n",
    "        total = cv2.countNonZero(mask)     # Calculating the sum of non-zero pixels\n",
    "        minm.append(total)     # For use in future\n",
    "        if bubbled is None or total > bubbled[0]:     # Comparing the sum of non zero pixels\n",
    "            bubbled = (total, j)\n",
    "    \n",
    "    maxm.append(bubbled[0])     # For use in future\n",
    "    \n",
    "    color = (0, 0, 255)\n",
    "    k = ANSWER_KEY[q]     # Retrieving the answer from the answer key based on question 'q'\n",
    "    \n",
    "    if k == bubbled[1]:\n",
    "        color = (0, 255, 0)\n",
    "        correct += 1\n",
    "    cv2.drawContours(pap, [temp[k]], -1, color, 3)\n",
    "        "
   ]
  },
  {
   "cell_type": "markdown",
   "metadata": {},
   "source": [
    "### Displaying the score"
   ]
  },
  {
   "cell_type": "code",
   "execution_count": 92,
   "metadata": {},
   "outputs": [
    {
     "data": {
      "text/plain": [
       "-1"
      ]
     },
     "execution_count": 92,
     "metadata": {},
     "output_type": "execute_result"
    }
   ],
   "source": [
    "score = (correct /(q+1)) * 100\n",
    "cv2.putText(pap, \"{:.2f}%\".format(score), (10, 30), cv2.FONT_HERSHEY_SIMPLEX, 0.9, (0, 0, 255), 2)\n",
    "cv2.imshow(\"Original\", image)\n",
    "cv2.imshow(\"test\", pap)\n",
    "cv2.waitKey(0)"
   ]
  },
  {
   "cell_type": "markdown",
   "metadata": {},
   "source": [
    "###  "
   ]
  },
  {
   "cell_type": "markdown",
   "metadata": {},
   "source": [
    "# But there's a problem\n",
    "### Till now we had user who would only mark one bubble  for each question. What if : \n",
    "1. No bubble is marked\n",
    "2. A nefarious user marks all the bubbles \n",
    "\n",
    "Both the above problems can be solved using a small logic"
   ]
  },
  {
   "cell_type": "markdown",
   "metadata": {},
   "source": [
    "1. Using a minimum value of total for the bubble to be marked\n",
    "2. We can set a flag if an option has been marked breforehand"
   ]
  },
  {
   "cell_type": "code",
   "execution_count": 93,
   "metadata": {},
   "outputs": [
    {
     "name": "stdout",
     "output_type": "stream",
     "text": [
      "[817, 686, 794, 805, 722]\n"
     ]
    }
   ],
   "source": [
    "print(maxm)"
   ]
  },
  {
   "cell_type": "markdown",
   "metadata": {},
   "source": [
    "We can see that most of the marked bubble have <u> value of total greater than 600 </u>"
   ]
  },
  {
   "cell_type": "code",
   "execution_count": 94,
   "metadata": {},
   "outputs": [
    {
     "name": "stdout",
     "output_type": "stream",
     "text": [
      "[289, 817, 290, 320, 300, 279, 328, 290, 307, 686, 794, 318, 285, 326, 316, 294, 323, 805, 331, 320, 286, 722, 294, 324, 317]\n"
     ]
    }
   ],
   "source": [
    "print(minm)"
   ]
  },
  {
   "cell_type": "markdown",
   "metadata": {},
   "source": [
    "And for the unmarked bubble the <u> values of total is less than 600 <u> "
   ]
  },
  {
   "cell_type": "markdown",
   "metadata": {},
   "source": [
    "### Modified code"
   ]
  },
  {
   "cell_type": "code",
   "execution_count": 111,
   "metadata": {},
   "outputs": [],
   "source": [
    "pap = paper.copy()\n",
    "q = -1\n",
    "correct = 0\n",
    "flag = False\n",
    "minm = []\n",
    "maxm = []\n",
    "for i in range(0,len(questionCnts),5):\n",
    "    q+=1\n",
    "    \n",
    "    # Sorting contours from left to right\n",
    "    temp = contours.sort_contours(questionCnts[i:i+5], method=\"left-to-right\")[0]\n",
    "    \n",
    "    bubbled = None\n",
    "    flag = False\n",
    "    for (j,c) in enumerate(temp):\n",
    "        \n",
    "        mask = np.zeros(thresh.shape, dtype=\"uint8\")     # Create a dummy mask\n",
    "        cv2.drawContours(mask, [c], -1, 255, -1)         # Drawing the contours on the dummy mask\n",
    "                                                                       \n",
    "        \n",
    "        mask = cv2.bitwise_and(thresh, thresh, mask=mask)     # Doing Bitwise-and to reveal the bubble\n",
    "        \n",
    "        total = cv2.countNonZero(mask)     # Calculating the sum of non-zero pixels            \n",
    "        \n",
    "        # Breaking the loop and setting bubbled = None when another marked bubble is found in same question\n",
    "        if flag and total > 600:     \n",
    "            bubbled = None\n",
    "            break\n",
    "            \n",
    "        if total > 600:     # Setting flag = True when a marked bubble is found\n",
    "            flag = True\n",
    "            \n",
    "        if total > 600:     # Comparing the sum of non zero pixels\n",
    "            bubbled = (total, j)\n",
    "                \n",
    "    color = (0, 0, 255)\n",
    "    k = ANSWER_KEY[q]     # Retrieving the answer from the answer key based on question 'q'\n",
    "    \n",
    "    if bubbled and k == bubbled[1]:\n",
    "        color = (0, 255, 0)\n",
    "        correct += 1\n",
    "    if bubbled:     # Not Drawing contour when bubbled is None\n",
    "        cv2.drawContours(pap, [temp[k]], -1, color, 3)"
   ]
  },
  {
   "cell_type": "code",
   "execution_count": 115,
   "metadata": {},
   "outputs": [
    {
     "data": {
      "text/plain": [
       "-1"
      ]
     },
     "execution_count": 115,
     "metadata": {},
     "output_type": "execute_result"
    }
   ],
   "source": [
    "score = (correct /(q+1)) * 100\n",
    "cv2.putText(pap, \"{:.2f}%\".format(score), (10, 30), cv2.FONT_HERSHEY_SIMPLEX, 0.9, (0, 0, 255), 2)\n",
    "cv2.imshow(\"Original\", image)\n",
    "cv2.imshow(\"test\", pap)\n",
    "cv2.waitKey(0)"
   ]
  },
  {
   "cell_type": "markdown",
   "metadata": {},
   "source": [
    "### Isolation step by step"
   ]
  },
  {
   "cell_type": "code",
   "execution_count": 116,
   "metadata": {
    "collapsed": true
   },
   "outputs": [],
   "source": [
    "mask = np.zeros(thresh.shape, dtype=\"uint8\")     # Create a dummy mask"
   ]
  },
  {
   "cell_type": "code",
   "execution_count": 117,
   "metadata": {},
   "outputs": [
    {
     "data": {
      "text/plain": [
       "-1"
      ]
     },
     "execution_count": 117,
     "metadata": {},
     "output_type": "execute_result"
    }
   ],
   "source": [
    "cv2.imshow('temp',mask)\n",
    "cv2.waitKey(0)"
   ]
  },
  {
   "cell_type": "code",
   "execution_count": 118,
   "metadata": {
    "collapsed": true
   },
   "outputs": [],
   "source": [
    "c = contours.sort_contours(questionCnts[0:5], method=\"left-to-right\")[0]     # Sorting contours from left to right"
   ]
  },
  {
   "cell_type": "code",
   "execution_count": 119,
   "metadata": {
    "collapsed": true
   },
   "outputs": [],
   "source": [
    "temp = cv2.drawContours(mask, [c[0]], -1, 255, -1)     # Drawing the contours on the dummy mask"
   ]
  },
  {
   "cell_type": "code",
   "execution_count": 120,
   "metadata": {},
   "outputs": [
    {
     "data": {
      "text/plain": [
       "-1"
      ]
     },
     "execution_count": 120,
     "metadata": {},
     "output_type": "execute_result"
    }
   ],
   "source": [
    "cv2.imshow('temp',temp)\n",
    "cv2.waitKey(0)"
   ]
  },
  {
   "cell_type": "code",
   "execution_count": 121,
   "metadata": {
    "collapsed": true
   },
   "outputs": [],
   "source": [
    "mask = cv2.bitwise_and(thresh, thresh, mask=mask)     # Doing Bitwise-and to reveal the bubble"
   ]
  },
  {
   "cell_type": "code",
   "execution_count": 122,
   "metadata": {},
   "outputs": [
    {
     "data": {
      "text/plain": [
       "-1"
      ]
     },
     "execution_count": 122,
     "metadata": {},
     "output_type": "execute_result"
    }
   ],
   "source": [
    "cv2.imshow('temp',mask)\n",
    "cv2.waitKey(0)"
   ]
  },
  {
   "cell_type": "code",
   "execution_count": null,
   "metadata": {
    "collapsed": true
   },
   "outputs": [],
   "source": []
  }
 ],
 "metadata": {
  "kernelspec": {
   "display_name": "Python 3",
   "language": "python",
   "name": "python3"
  },
  "language_info": {
   "codemirror_mode": {
    "name": "ipython",
    "version": 3
   },
   "file_extension": ".py",
   "mimetype": "text/x-python",
   "name": "python",
   "nbconvert_exporter": "python",
   "pygments_lexer": "ipython3",
   "version": "3.6.1"
  }
 },
 "nbformat": 4,
 "nbformat_minor": 2
}
